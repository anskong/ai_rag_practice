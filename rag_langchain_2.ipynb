{
 "cells": [
  {
   "cell_type": "markdown",
   "id": "3a4e7d68",
   "metadata": {},
   "source": [
    "<b> LLM - RAG - LangChain 학습 1\n"
   ]
  }
 ],
 "metadata": {
  "language_info": {
   "name": "python"
  }
 },
 "nbformat": 4,
 "nbformat_minor": 5
}
