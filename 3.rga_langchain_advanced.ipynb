{
 "cells": [
  {
   "cell_type": "markdown",
   "id": "c2a0cab0",
   "metadata": {},
   "source": [
    "## **RAG의 핵심, 문서 검색기 Retriever**\n",
    "### **사용자의 쿼리를 재해석하여 검색하다, MultiQueryRetriever**\n",
    "**Chroma DB에 문서 벡터 저장**"
   ]
  },
  {
   "cell_type": "code",
   "execution_count": null,
   "id": "c738c531",
   "metadata": {},
   "outputs": [],
   "source": [
    "from langchain.document_loaders import PyPDFLoader\n",
    "from langchain.text_splitter import RecursiveCharacterTextSplitter\n",
    "from langchain_openai import OpenAIEmbeddings\n",
    "from langchain_community.vectorstores import Chroma\n",
    "\n",
    "#헌법 PDF 파일 로드\n",
    "# PDF파일 불러올 객체 PyPDFLoader 선언 - macOS\n",
    "loader = PyPDFLoader(\n",
    "    r\"/Users/youngho_moon/Library/CloudStorage/GoogleDrive-anskong@gmail.com/내 드라이브/LLM-RAG-LangChain/대한민국헌법(헌법)(제00010호)(19880225).pdf\"\n",
    ")\n",
    "pages = loader.load_and_split()\n",
    "\n",
    "#PDF 파일을 500자 청크로 분할\n",
    "text_splitter = RecursiveCharacterTextSplitter(chunk_size=500, chunk_overlap=0)\n",
    "docs = text_splitter.split_documents(pages)\n",
    "\n",
    "#ChromaDB에 청크들을 벡터 임베딩으로 저장(OpenAI 임베딩 모델 활용)\n",
    "db = Chroma.from_documents(docs, OpenAIEmbeddings(model = 'text-embedding-3-small'))\n"
   ]
  },
  {
   "cell_type": "markdown",
   "id": "2d2b9c67",
   "metadata": {},
   "source": [
    "**질문을 여러 버전으로 재해석하여 Retriever에 활용**"
   ]
  },
  {
   "cell_type": "code",
   "execution_count": null,
   "id": "5468b900",
   "metadata": {},
   "outputs": [],
   "source": [
    "#```Chroma DB에 대한민국 헌법 PDF 임베딩 변환 및 저장하는 과정은 위 셀에 있습니다```\n",
    "from langchain.retrievers.multi_query import MultiQueryRetriever\n",
    "from langchain_openai import ChatOpenAI\n",
    "\n",
    "#질문 문장 question으로 저장\n",
    "question = \"국회의원의 의무는 무엇이 있나요?\"\n",
    "#여러 버전의 질문으로 변환하는 역할을 맡을 LLM 선언\n",
    "llm = ChatOpenAI(model_name=\"gpt-3.5-turbo-0125\",\n",
    "                 temperature = 0)\n",
    "#MultiQueryRetriever에 벡터DB 기반 Retriever와 LLM 선언\n",
    "retriever_from_llm = MultiQueryRetriever.from_llm(\n",
    "    retriever=db.as_retriever(), llm=llm\n",
    ")\n",
    "\n",
    "# 여러 버전의 문장 생성 결과를 확인하기 위한 로깅 과정\n",
    "import logging\n",
    "logging.basicConfig()\n",
    "logging.getLogger(\"langchain.retrievers.multi_query\").setLevel(logging.INFO)\n",
    "\n",
    "#여러 버전 질문 생성 결과와 유사 청크 검색 개수 출력\n",
    "unique_docs = retriever_from_llm.invoke(input=question)\n",
    "len(unique_docs)"
   ]
  },
  {
   "cell_type": "code",
   "execution_count": null,
   "id": "17aa2a76",
   "metadata": {},
   "outputs": [],
   "source": [
    "unique_docs"
   ]
  }
 ],
 "metadata": {
  "kernelspec": {
   "display_name": "yhmoon05",
   "language": "python",
   "name": "python3"
  },
  "language_info": {
   "codemirror_mode": {
    "name": "ipython",
    "version": 3
   },
   "file_extension": ".py",
   "mimetype": "text/x-python",
   "name": "python",
   "nbconvert_exporter": "python",
   "pygments_lexer": "ipython3",
   "version": "3.12.9"
  }
 },
 "nbformat": 4,
 "nbformat_minor": 5
}
