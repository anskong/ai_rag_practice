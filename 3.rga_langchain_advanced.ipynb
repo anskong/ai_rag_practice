{
 "cells": [
  {
   "cell_type": "markdown",
   "id": "c2a0cab0",
   "metadata": {},
   "source": [
    "## **RAG의 핵심, 문서 검색기 Retriever**\n",
    "### **사용자의 쿼리를 재해석하여 검색하다, MultiQueryRetriever**\n",
    "**Chroma DB에 문서 벡터 저장**"
   ]
  },
  {
   "cell_type": "code",
   "execution_count": null,
   "id": "310a4728",
   "metadata": {},
   "outputs": [],
   "source": [
    "import os\n",
    "from dotenv import load_dotenv\n",
    "\n",
    "# 환경변수 읽어오기\n",
    "load_dotenv(override=True)  # .env 파일을 덮어쓰기 모드로 읽기\n",
    "\n",
    "# 환경변수 불러오기\n",
    "openai_key = os.getenv(\"OPENAI_API_KEY\")\n",
    "anthropic_key = os.getenv(\"ANTHROPIC_API_KEY\")\n",
    "huggingface_token = os.getenv(\"HUGGINGFACEHUB_API_TOKEN\")\n",
    "\n",
    "print(f\"openai key values ::: {openai_key}\")  # 테스트용 (실제 서비스에서는 print 금지)\n",
    "print(f\"anthropic key values ::: {anthropic_key}\")  # 테스트용 (실제 서비스에서는 print 금지)\n",
    "print(f\"huggingface_token::: {huggingface_token}\")  # 테스트용 (실제 서비스에서는 print 금지)"
   ]
  },
  {
   "cell_type": "code",
   "execution_count": null,
   "id": "684e9f1b",
   "metadata": {},
   "outputs": [],
   "source": [
    "from langchain_openai import OpenAIEmbeddings\n",
    "\n",
    "embedding_model = OpenAIEmbeddings(model=\"text-embedding-3-small\")\n",
    "result = embedding_model.embed_query(\"테스트 문장입니다.\")\n",
    "print(result[:5])  #"
   ]
  },
  {
   "cell_type": "markdown",
   "id": "8e738e4b",
   "metadata": {},
   "source": [
    "Test 소스"
   ]
  },
  {
   "cell_type": "code",
   "execution_count": null,
   "id": "599490ea",
   "metadata": {},
   "outputs": [],
   "source": [
    "from langchain.document_loaders import PyPDFLoader\n",
    "from langchain.text_splitter import RecursiveCharacterTextSplitter\n",
    "from langchain_openai import OpenAIEmbeddings\n",
    "# from langchain_community.vectorstores import Chroma\n",
    "from langchain_chroma import Chroma\n",
    "\n",
    "#헌법 PDF 파일 로드\n",
    "\n",
    "# PDF파일 불러올 객체 PyPDFLoader 선언 - window11 \n",
    "loader = PyPDFLoader(r\"G:\\내 드라이브\\LLM-RAG-LangChain\\대한민국헌법(헌법제1호).pdf\")\n",
    "\n",
    "# PDF파일 불러올 객체 PyPDFLoader 선언 - macOS\n",
    "# loader = PyPDFLoader(\n",
    "#     r\"/Users/youngho_moon/Library/CloudStorage/GoogleDrive-anskong@gmail.com/내 드라이브/LLM-RAG-LangChain/대한민국헌법(헌법)(제00010호)(19880225).pdf\"\n",
    "# )\n",
    "pages = loader.load_and_split()\n",
    "\n",
    "#PDF 파일을 500자 청크로 분할\n",
    "text_splitter = RecursiveCharacterTextSplitter(chunk_size=500, chunk_overlap=0)\n",
    "# docs = text_splitter.split_documents(pages)\n",
    "\n",
    "# Chroma를 제거하고 임베딩만 추출\n",
    "docs = text_splitter.split_documents(pages[:3])  # 소량만 사용\n",
    "\n",
    "# 임베딩 결과 확인\n",
    "embedding_model = OpenAIEmbeddings(model='text-embedding-3-small')\n",
    "for doc in docs:\n",
    "    vec = embedding_model.embed_query(doc.page_content)\n",
    "    print(vec[:5])"
   ]
  },
  {
   "cell_type": "code",
   "execution_count": 1,
   "id": "c738c531",
   "metadata": {},
   "outputs": [
    {
     "name": "stderr",
     "output_type": "stream",
     "text": [
      "INFO:chromadb.telemetry.product.posthog:Anonymized telemetry enabled. See                     https://docs.trychroma.com/telemetry for more information.\n",
      "DEBUG:chromadb.config:Starting component System\n",
      "DEBUG:chromadb.config:Starting component Posthog\n",
      "DEBUG:openai._base_client:Request options: {'method': 'post', 'url': '/embeddings', 'files': None, 'idempotency_key': 'stainless-python-retry-a64ae48b-9473-4daf-8622-4d9860383f44', 'post_parser': <function Embeddings.create.<locals>.parser at 0x000001BEDCDC7CE0>, 'json_data': {'input': [[27384, 165, 253, 241, 70821, 12554, 233, 162, 228, 110, 25333, 198, 16, 611, 220, 24, 8790, 113, 255, 62841, 28617, 243, 16306, 254, 30381, 42771, 30426, 25941, 169, 227, 250], [67945, 24486, 50273, 120, 89059, 255, 169, 245, 234, 28617, 243, 58, 30426, 169, 52375, 220, 6393, 23, 13, 22, 13, 1114, 13, 1483, 169, 245, 234, 28617, 243, 63171, 16, 48424, 11, 220, 6393, 23, 13, 22, 13, 1114, 2637, 63171, 30381, 60, 38187, 16, 41953, 3396, 112, 251, 14705, 243, 38187, 16, 93917, 62060, 24486, 50273, 120, 89059, 255, 34804, 5251, 107, 120, 55430, 79225, 57390, 89059, 255, 13094, 13447, 13, 38187, 17, 93917, 62060, 24486, 50273, 120, 89059, 255, 21028, 56773, 166, 114, 234, 34804, 8790, 113, 255, 50273, 120, 19954, 58901, 36439, 35495, 55170, 82776, 8790, 114, 234, 29854, 34804, 8790, 113, 255, 50273, 120, 43139, 64189, 34961, 74618, 36092, 101, 13447, 13, 38187, 18, 93917, 62060, 24486, 50273, 120, 89059, 255, 21028, 8790, 113, 255, 50273, 120, 65219, 16969, 87097, 64861, 112, 34804, 48765, 243, 16306, 254, 17835, 168, 235, 101, 37155, 52976, 13, 38187, 19, 93917, 62060, 24486, 50273, 120, 89059, 255, 21028, 39623, 223, 169, 228, 254, 16969, 62398, 39277, 246, 49085, 81673, 55925, 86503, 35677, 235, 49085, 27796, 17835, 62398, 13447, 13, 38187, 20, 93917, 62060, 24486, 50273, 120, 89059, 255, 34804, 37155, 60798, 11, 44215, 38187, 11, 33229, 62841, 11, 54535, 57390, 21028, 55170, 82776, 39623, 223, 13879, 255, 19954, 36439, 32179, 27796, 17196, 223, 32428, 21028, 65677, 27433, 254, 11, 70541, 231, 21819, 109, 54780, 63199, 121, 21028, 18918, 3396, 91657, 59269, 239, 16582, 35495, 64432, 41953, 16582, 28313, 108, 46230, 113, 79225, 98934, 29102, 21028, 10997, 244, 98, 57002, 18359, 46810, 83290, 23955, 18918, 64432, 48424, 16582, 35495, 66610, 30381, 44005, 17169, 246, 167, 91834, 18918, 49011, 226, 13447, 13, 38187, 21, 93917, 62060, 24486, 50273, 120, 89059, 255, 34804, 55170, 82776, 91811, 101, 39519, 113, 82068, 32428, 57519, 168, 253, 223, 18359, 86503, 32428, 52976, 13, 8790, 113, 255, 89059, 108, 34804, 8790, 113, 255, 169, 228, 254, 39277, 102, 82001, 21028, 30027, 254, 33931, 24486, 17169, 246, 167, 91834, 18918, 29833, 169, 52375, 79053, 18359, 33229, 80732, 43139, 62398, 13447, 13, 38187, 22, 93917, 75086, 59269, 222, 79225, 169, 237, 105, 53400, 8790, 113, 255, 38187, 93917, 31495, 121, 54780, 84656, 39277, 246, 82068, 43139, 80307, 117, 32428, 53400, 8790, 113, 255, 38187, 28617, 243, 90161, 250, 16969, 8790, 113, 255, 96318, 28617, 243, 54780, 65905, 247, 33177, 24486, 10997, 248, 101, 29854, 18359, 36609, 86351, 13447, 13, 59399, 116, 89059, 255, 32428, 21028, 48765, 243, 82068, 22035, 82001, 16969, 8790, 113, 255, 38187, 28617, 243, 54780, 8790, 113, 255, 38187, 93917, 31495, 121, 21028, 48765, 242, 82001, 96318, 57575, 64432, 41953, 53400, 13447, 13, 38187, 17, 41953, 8790, 113, 255, 50273, 120, 21028, 8790, 114, 234, 29102, 21028, 167, 91834, 38187, 23, 93917, 55170, 82776, 8790, 113, 255, 50273, 120, 34804, 48765, 243, 16306, 254, 31495, 252, 19954, 70541, 231, 21819, 109, 13094, 28313, 108, 28867, 109, 29099, 226, 11, 30027, 254, 31495, 247, 5251, 246, 238, 16969, 33229, 62841, 82068, 30027, 254, 80816, 19954, 17169, 246, 83290, 37155, 60798, 82068, 11, 44215, 38187, 82068, 11, 33229, 62841, 82068, 48918, 34693, 250, 21028, 55170, 82776, 39623, 223, 13879, 255, 19954, 36439, 32179, 27796, 63199, 101, 29099, 226, 18359, 84696, 22035], [54059, 84136, 52976, 13, 56154, 62841, 82068, 10997, 232, 117, 24140, 22783, 226, 18202, 231, 21028, 63171, 49085, 16969, 84656, 50643, 59777, 30381, 65219, 22035, 49508, 84136, 16582, 28313, 108, 84618, 16582, 24486, 48555, 243, 87472, 17835, 49085, 23955, 18918, 63199, 121, 14901, 97, 88525, 38078, 119, 52976, 13, 169, 249, 230, 41953, 54780, 55216, 61727, 222, 39623, 223, 66965, 21028, 29833, 58126, 16969, 74177, 17835, 22035, 55925, 84696, 34804, 65677, 21028, 39623, 223, 36092, 230, 19954, 62398, 24486, 72208, 13094, 28313, 108, 84618, 16582, 24486, 10997, 232, 117, 166, 114, 234, 49085, 63199, 121, 14901, 97, 65219, 22035, 49508, 84136, 52976, 13, 38187, 24, 93917, 55170, 82776, 8790, 113, 255, 50273, 120, 34804, 30027, 254, 50643, 21028, 65677, 27433, 254, 18918, 36609, 86351, 13447, 13, 48765, 243, 16306, 254, 19954, 17169, 246, 88525, 49508, 84136, 16582, 35495, 16969, 49464, 112, 169, 237, 105, 11, 59877, 18202, 230, 11, 29833, 78326, 11, 30027, 105, 52688, 11, 72747, 28617, 234, 54780, 17196, 243, 38187, 75265, 116, 13879, 255, 18359, 84696, 22035, 49508, 84136, 52976, 13, 50643, 169, 237, 105, 11, 59877, 18202, 230, 11, 29833, 78326, 19954, 16969, 48765, 243, 166, 71397, 21028, 39623, 223, 41953, 13094, 36439, 32179, 90759, 62398, 13447, 13, 35243, 101, 11, 48765, 242, 168, 96, 226, 21028, 48555, 226, 169, 52375, 14260, 28617, 242, 32428, 21028, 65905, 226, 169, 242, 120, 5251, 246, 238, 16969, 3396, 99, 251, 93292, 32428, 28313, 116, 21028, 25493, 120, 22289, 97, 20565, 36439, 18359, 54718, 19954, 16969, 29833, 56154, 21121, 166, 71397, 34804, 48765, 243, 16306, 254, 21028, 37155, 44005, 82818, 19954, 17169, 246, 83290, 33229, 169, 75309, 19954, 39623, 223, 41953, 21028, 8790, 113, 238, 64189, 18918, 49464, 255, 89359, 48936, 29833, 91786, 13, 167, 230, 226, 89359, 82776, 22035, 49464, 112, 169, 237, 105, 11, 59877, 18202, 230, 18359, 84696, 34804, 54718, 19954, 16969, 3396, 99, 231, 30426, 47419, 48424, 32428, 21028, 66610, 29854, 18359, 84696, 18359, 8790, 114, 234, 29102, 81673, 55925, 35243, 117, 64189, 21028, 30027, 105, 56154, 18918, 48765, 243, 55421, 19954, 49464, 255, 89359, 48936, 8790, 114, 234, 29102, 20565, 64432, 41953, 53400, 13447, 13, 38187, 605, 93917, 55170, 82776, 8790, 113, 255, 50273, 120, 34804, 48765, 243, 16306, 254, 19954, 17169, 246, 88525, 49508, 84136, 16582, 35495, 16969, 98272, 108, 55430, 81673, 23955, 66965, 21028, 65677, 27433, 254, 18918, 63171, 24486, 39277, 249, 22035, 49508, 84136, 16582, 28313, 108, 56773, 93292, 21028, 91811, 101, 44966, 5251, 246, 238, 16969, 29833, 78326, 18359, 84696, 22035, 49508, 84136, 52976, 13, 38187, 806, 93917, 55170, 82776, 8790, 113, 255, 50273, 120, 34804, 48765, 243, 16306, 254, 19954, 17169, 246, 88525, 49508, 84136, 16582, 35495, 16969, 10997, 90279, 83628, 21028, 75086, 39277, 222, 18359, 91811, 101, 34983, 39277, 249, 22035, 49508, 84136, 52976, 13, 38187, 717, 93917, 55170, 82776, 8790, 113, 255, 50273, 120, 34804, 30027, 254, 31495, 247, 54780, 80402, 239, 22254, 105, 21028, 65677, 27433, 254, 18918], [20565, 86351, 13447, 13, 89059, 255, 89059, 238, 16969, 3396, 91657, 58232, 88525, 49508, 84136, 16582, 28313, 108, 99458, 89059, 238, 16969, 37155, 60798, 17835, 64189, 34961, 63840, 226, 29102, 53400, 13447, 13], [27384, 165, 253, 241, 70821, 12554, 233, 162, 228, 110, 25333, 198, 17, 611, 220, 24, 8790, 113, 255, 62841, 28617, 243, 16306, 254, 30381, 42771, 30426, 25941, 169, 227, 250]], 'model': 'text-embedding-3-small', 'encoding_format': 'base64'}}\n",
      "DEBUG:openai._base_client:Sending HTTP Request: POST https://api.openai.com/v1/embeddings\n",
      "DEBUG:httpcore.connection:connect_tcp.started host='api.openai.com' port=443 local_address=None timeout=None socket_options=None\n",
      "DEBUG:httpcore.connection:connect_tcp.complete return_value=<httpcore._backends.sync.SyncStream object at 0x000001BEDCDC2D90>\n",
      "DEBUG:httpcore.connection:start_tls.started ssl_context=<ssl.SSLContext object at 0x000001BEDC87EA80> server_hostname='api.openai.com' timeout=None\n",
      "DEBUG:httpcore.connection:start_tls.complete return_value=<httpcore._backends.sync.SyncStream object at 0x000001BEDCE07E90>\n",
      "DEBUG:httpcore.http11:send_request_headers.started request=<Request [b'POST']>\n",
      "DEBUG:httpcore.http11:send_request_headers.complete\n",
      "DEBUG:httpcore.http11:send_request_body.started request=<Request [b'POST']>\n",
      "DEBUG:httpcore.http11:send_request_body.complete\n",
      "DEBUG:httpcore.http11:receive_response_headers.started request=<Request [b'POST']>\n",
      "DEBUG:urllib3.connectionpool:Starting new HTTPS connection (1): us.i.posthog.com:443\n",
      "DEBUG:httpcore.http11:receive_response_headers.complete return_value=(b'HTTP/1.1', 200, b'OK', [(b'Date', b'Mon, 19 May 2025 06:11:19 GMT'), (b'Content-Type', b'application/json'), (b'Transfer-Encoding', b'chunked'), (b'Connection', b'keep-alive'), (b'access-control-allow-origin', b'*'), (b'access-control-expose-headers', b'X-Request-ID'), (b'openai-model', b'text-embedding-3-small'), (b'openai-organization', b'moon-youngho'), (b'openai-processing-ms', b'146'), (b'openai-version', b'2020-10-01'), (b'strict-transport-security', b'max-age=31536000; includeSubDomains; preload'), (b'via', b'envoy-router-5fcfd9bb69-6zdp9'), (b'x-envoy-upstream-service-time', b'151'), (b'x-ratelimit-limit-requests', b'3000'), (b'x-ratelimit-limit-tokens', b'1000000'), (b'x-ratelimit-remaining-requests', b'2999'), (b'x-ratelimit-remaining-tokens', b'998898'), (b'x-ratelimit-reset-requests', b'20ms'), (b'x-ratelimit-reset-tokens', b'66ms'), (b'x-request-id', b'req_a13acfb1b21544688b2d91be3291f179'), (b'cf-cache-status', b'DYNAMIC'), (b'Set-Cookie', b'__cf_bm=6xbbtLZSuMkxNXz8PHdZ2hfLXQpoEH6iuFd5BGx8QSo-1747635079-1.0.1.1-vnVdEjIbuu0ZcxOelFBVM.o9HN0pLtGUKRn0s2lzTBLvBTEtK4mMS2thYjHaYfBxQHxR0m2jeAK1AYX3ZgyEUlsbONYdIiKtqGy2uVYAUEo; path=/; expires=Mon, 19-May-25 06:41:19 GMT; domain=.api.openai.com; HttpOnly; Secure; SameSite=None'), (b'X-Content-Type-Options', b'nosniff'), (b'Set-Cookie', b'_cfuvid=I78H59Med787sILSL8fDXYOesuyPMxkb3mbdiUWNUmQ-1747635079637-0.0.1.1-604800000; path=/; domain=.api.openai.com; HttpOnly; Secure; SameSite=None'), (b'Server', b'cloudflare'), (b'CF-RAY', b'94216fab980ad1d2-ICN'), (b'Content-Encoding', b'gzip'), (b'alt-svc', b'h3=\":443\"; ma=86400')])\n",
      "INFO:httpx:HTTP Request: POST https://api.openai.com/v1/embeddings \"HTTP/1.1 200 OK\"\n",
      "DEBUG:httpcore.http11:receive_response_body.started request=<Request [b'POST']>\n",
      "DEBUG:httpcore.http11:receive_response_body.complete\n",
      "DEBUG:httpcore.http11:response_closed.started\n",
      "DEBUG:httpcore.http11:response_closed.complete\n",
      "DEBUG:openai._base_client:HTTP Response: POST https://api.openai.com/v1/embeddings \"200 OK\" Headers([('date', 'Mon, 19 May 2025 06:11:19 GMT'), ('content-type', 'application/json'), ('transfer-encoding', 'chunked'), ('connection', 'keep-alive'), ('access-control-allow-origin', '*'), ('access-control-expose-headers', 'X-Request-ID'), ('openai-model', 'text-embedding-3-small'), ('openai-organization', 'moon-youngho'), ('openai-processing-ms', '146'), ('openai-version', '2020-10-01'), ('strict-transport-security', 'max-age=31536000; includeSubDomains; preload'), ('via', 'envoy-router-5fcfd9bb69-6zdp9'), ('x-envoy-upstream-service-time', '151'), ('x-ratelimit-limit-requests', '3000'), ('x-ratelimit-limit-tokens', '1000000'), ('x-ratelimit-remaining-requests', '2999'), ('x-ratelimit-remaining-tokens', '998898'), ('x-ratelimit-reset-requests', '20ms'), ('x-ratelimit-reset-tokens', '66ms'), ('x-request-id', 'req_a13acfb1b21544688b2d91be3291f179'), ('cf-cache-status', 'DYNAMIC'), ('set-cookie', '__cf_bm=6xbbtLZSuMkxNXz8PHdZ2hfLXQpoEH6iuFd5BGx8QSo-1747635079-1.0.1.1-vnVdEjIbuu0ZcxOelFBVM.o9HN0pLtGUKRn0s2lzTBLvBTEtK4mMS2thYjHaYfBxQHxR0m2jeAK1AYX3ZgyEUlsbONYdIiKtqGy2uVYAUEo; path=/; expires=Mon, 19-May-25 06:41:19 GMT; domain=.api.openai.com; HttpOnly; Secure; SameSite=None'), ('x-content-type-options', 'nosniff'), ('set-cookie', '_cfuvid=I78H59Med787sILSL8fDXYOesuyPMxkb3mbdiUWNUmQ-1747635079637-0.0.1.1-604800000; path=/; domain=.api.openai.com; HttpOnly; Secure; SameSite=None'), ('server', 'cloudflare'), ('cf-ray', '94216fab980ad1d2-ICN'), ('content-encoding', 'gzip'), ('alt-svc', 'h3=\":443\"; ma=86400')])\n",
      "DEBUG:openai._base_client:request_id: req_a13acfb1b21544688b2d91be3291f179\n"
     ]
    },
    {
     "ename": "",
     "evalue": "",
     "output_type": "error",
     "traceback": [
      "\u001b[1;31m현재 셀 또는 이전 셀에서 코드를 실행하는 동안 Kernel이 충돌했습니다. \n",
      "\u001b[1;31m셀의 코드를 검토하여 가능한 오류 원인을 식별하세요. \n",
      "\u001b[1;31m자세한 내용을 보려면 <a href='https://aka.ms/vscodeJupyterKernelCrash'>여기</a>를 클릭하세요. \n",
      "\u001b[1;31m자세한 내용은 Jupyter <a href='command:jupyter.viewOutput'>로그</a>를 참조하세요."
     ]
    }
   ],
   "source": [
    "from langchain.document_loaders import PyPDFLoader\n",
    "from langchain.text_splitter import RecursiveCharacterTextSplitter\n",
    "from langchain_openai import OpenAIEmbeddings                           \n",
    "# from langchain_community.vectorstores import Chroma\n",
    "from langchain_chroma import Chroma\n",
    "\n",
    "import shutil\n",
    "\n",
    "import logging\n",
    "\n",
    "# 기본 로깅 설정\n",
    "logging.basicConfig(level=logging.DEBUG)\n",
    "\n",
    "# ChromaDB 관련 로거 활성화\n",
    "logging.getLogger(\"chromadb\").setLevel(logging.DEBUG)\n",
    "logging.getLogger(\"chromadb.db\").setLevel(logging.DEBUG)\n",
    "logging.getLogger(\"chromadb.telemetry\").setLevel(logging.INFO)\n",
    "\n",
    "#헌법 PDF 파일 로드\n",
    "\n",
    "# PDF파일 불러올 객체 PyPDFLoader 선언 - window11 \n",
    "loader = PyPDFLoader(r\"G:\\내 드라이브\\LLM-RAG-LangChain\\대한민국헌법(헌법제1호).pdf\")\n",
    "\n",
    "# PDF파일 불러올 객체 PyPDFLoader 선언 - macOS\n",
    "# loader = PyPDFLoader(\n",
    "#     r\"/Users/youngho_moon/Library/CloudStorage/GoogleDrive-anskong@gmail.com/내 드라이브/LLM-RAG-LangChain/대한민국헌법(헌법)(제00010호)(19880225).pdf\"\n",
    "# )\n",
    "pages = loader.load_and_split()\n",
    "\n",
    "#PDF 파일을 500자 청크로 분할\n",
    "text_splitter = RecursiveCharacterTextSplitter(chunk_size=500, chunk_overlap=0)\n",
    "docs = text_splitter.split_documents(pages[:5])\n",
    "\n",
    "#ChromaDB에 청크들을 벡터 임베딩으로 저장(OpenAI 임베딩 모델 활용)\n",
    "# db = Chroma.from_documents(docs, OpenAIEmbeddings(model = 'text-embedding-3-small'))\n",
    "# db = Chroma.from_documents(\n",
    "#     docs,\n",
    "#     OpenAIEmbeddings(model=\"text-embedding-3-small\"),\n",
    "#     persist_directory=\"./chroma_db\"  # 폴더 직접 지정\n",
    "# )\n",
    "\n",
    "shutil.rmtree(\"C:/temp/chroma_db\", ignore_errors=True)\n",
    "\n",
    "embedding_model = OpenAIEmbeddings(model='text-embedding-3-small')\n",
    "\n",
    "# db = Chroma.from_documents(docs, embedding_model, persist_directory=\"C:/temp/chroma_db\")\n",
    "\n",
    "\n",
    "db = Chroma(\n",
    "    embedding_function=embedding_model,\n",
    "    persist_directory=\"C:/temp/chroma_db\",\n",
    "    collection_name=\"my_collection\"\n",
    ")\n",
    "\n",
    "# 소규모 배치로 나누어 삽입\n",
    "batch_size = 5\n",
    "for i in range(0, len(docs), batch_size):\n",
    "    batch = docs[i:i + batch_size]\n",
    "    db.add_documents(batch)"
   ]
  },
  {
   "cell_type": "markdown",
   "id": "2d2b9c67",
   "metadata": {},
   "source": [
    "**질문을 여러 버전으로 재해석하여 Retriever에 활용**"
   ]
  },
  {
   "cell_type": "code",
   "execution_count": null,
   "id": "5468b900",
   "metadata": {},
   "outputs": [],
   "source": [
    "#```Chroma DB에 대한민국 헌법 PDF 임베딩 변환 및 저장하는 과정은 위 셀에 있습니다```\n",
    "from langchain.retrievers.multi_query import MultiQueryRetriever\n",
    "from langchain_openai import ChatOpenAI\n",
    "\n",
    "#질문 문장 question으로 저장\n",
    "question = \"국회의원의 의무는 무엇이 있나요?\"\n",
    "#여러 버전의 질문으로 변환하는 역할을 맡을 LLM 선언\n",
    "llm = ChatOpenAI(model_name=\"gpt-3.5-turbo-0125\",\n",
    "                 temperature = 0)\n",
    "#MultiQueryRetriever에 벡터DB 기반 Retriever와 LLM 선언\n",
    "retriever_from_llm = MultiQueryRetriever.from_llm(\n",
    "    retriever=db.as_retriever(), llm=llm\n",
    ")\n",
    "\n",
    "# 여러 버전의 문장 생성 결과를 확인하기 위한 로깅 과정\n",
    "import logging\n",
    "logging.basicConfig()\n",
    "logging.getLogger(\"langchain.retrievers.multi_query\").setLevel(logging.INFO)\n",
    "\n",
    "#여러 버전 질문 생성 결과와 유사 청크 검색 개수 출력\n",
    "unique_docs = retriever_from_llm.invoke(input=question)\n",
    "len(unique_docs)"
   ]
  },
  {
   "cell_type": "code",
   "execution_count": null,
   "id": "17aa2a76",
   "metadata": {},
   "outputs": [],
   "source": [
    "unique_docs"
   ]
  }
 ],
 "metadata": {
  "kernelspec": {
   "display_name": "Python 3",
   "language": "python",
   "name": "python3"
  },
  "language_info": {
   "codemirror_mode": {
    "name": "ipython",
    "version": 3
   },
   "file_extension": ".py",
   "mimetype": "text/x-python",
   "name": "python",
   "nbconvert_exporter": "python",
   "pygments_lexer": "ipython3",
   "version": "3.11.0"
  }
 },
 "nbformat": 4,
 "nbformat_minor": 5
}
