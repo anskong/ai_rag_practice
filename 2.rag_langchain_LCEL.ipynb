{
 "cells": [
  {
   "cell_type": "markdown",
   "id": "3a4e7d68",
   "metadata": {},
   "source": [
    "### **RAG_LangChain_LCEL**\n"
   ]
  }
 ],
 "metadata": {
  "language_info": {
   "name": "python"
  }
 },
 "nbformat": 4,
 "nbformat_minor": 5
}
